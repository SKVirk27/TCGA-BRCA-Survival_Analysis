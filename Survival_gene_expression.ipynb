{
 "cells": [
  {
   "cell_type": "markdown",
   "metadata": {},
   "source": [
    "# TCGA-BRCA Survival Analysis\n",
    "\n",
    "## Objective\n",
    "To analyze the TCGA-BRCA dataset, perform feature selection, clustering, and survival analysis to identify the impact of gene expression on survival patterns.\n"
   ]
  },
  {
   "cell_type": "markdown",
   "metadata": {},
   "source": [
    "## Instructions\n",
    "1. Data Download:\n",
    "    - Download the TCGA-BRCA dataset from the cBioPortal website: https://www.cbioportal.org/\n",
    "    - Ensure you download the gene expression data and the clinical data files.\n"
   ]
  },
  {
   "cell_type": "code",
   "execution_count": 15,
   "metadata": {},
   "outputs": [],
   "source": [
    "## Data Download\n",
    "#Download the following files from [cBioPortal Datahub](https://github.com/cBioPortal/datahub/tree/master/public/brca_tcga):\n",
    "#- `data_clinical_patient.txt`\n",
    "#- `data_mrna_seq_v2_rsem.txt`\n"
   ]
  },
  {
   "cell_type": "markdown",
   "metadata": {},
   "source": [
    "Imports "
   ]
  },
  {
   "cell_type": "code",
   "execution_count": 2,
   "metadata": {},
   "outputs": [],
   "source": [
    "# Import necessary libraries\n",
    "import pandas as pd\n",
    "import numpy as np\n",
    "from lifelines import CoxPHFitter, KaplanMeierFitter\n",
    "from lifelines.statistics import logrank_test\n",
    "from sklearn.cluster import KMeans\n",
    "from sklearn.metrics import silhouette_score\n",
    "import matplotlib.pyplot as plt\n",
    "import random\n",
    "\n",
    "# Set matplotlib to display plots inline in Jupyter notebooks\n",
    "%matplotlib inline\n",
    "\n",
    "# Import necessary libraries for survival analysis, clustering, and visualization\n",
    "# - pandas and numpy for data manipulation and numerical operations\n",
    "# - lifelines for survival analysis\n",
    "# - sklearn for clustering and silhouette score\n",
    "# - matplotlib for plotting\n",
    "# - random for random number generation\n"
   ]
  },
  {
   "cell_type": "markdown",
   "metadata": {},
   "source": [
    "### Load Gene Expression Data\n",
    "Load the gene expression data from the downloaded file.\n"
   ]
  },
  {
   "cell_type": "code",
   "execution_count": 3,
   "metadata": {},
   "outputs": [],
   "source": [
    "# Generic paths for data files\n",
    "gene_expression_path = \"data_mrna_seq_v2_rsem.txt\"\n",
    "clinical_patient_file_path = \"data_clinical_patient.txt\"\n",
    "\n",
    "# Load the gene expression data\n",
    "gene_expression_df = pd.read_csv(gene_expression_path, sep='\\t')\n"
   ]
  },
  {
   "cell_type": "markdown",
   "metadata": {},
   "source": [
    "### Preprocess Gene Expression Data\n",
    "1. Remove rows with missing Hugo_Symbol\n",
    "2. Handle missing values by replacing them with 0\n",
    "3. Convert data types to numeric\n",
    "4. Sum the values across the columns (samples) for each gene (row)\n",
    "5. Filter out genes with low expression (sum of expression values < 10)\n",
    "6. Remove genes whose expression is zero in more than 50% of the samples\n",
    "7. Log transformation of the gene expression values\n",
    "8. Z-score normalization\n"
   ]
  },
  {
   "cell_type": "code",
   "execution_count": 4,
   "metadata": {},
   "outputs": [
    {
     "name": "stdout",
     "output_type": "stream",
     "text": [
      "Number of genes after low expression filter: 19893\n",
      "Number of genes after removing zero-expression genes in more than 50% of samples: 17646\n"
     ]
    }
   ],
   "source": [
    "# Remove rows with missing Hugo_Symbol\n",
    "gene_expression_df = gene_expression_df.dropna(subset=['Hugo_Symbol'])\n",
    "\n",
    "# Handle missing values by replacing them with 0 (if any)\n",
    "gene_expression_df = gene_expression_df.fillna(0)\n",
    "\n",
    "# Convert data types to numeric (in case there are any non-numeric values)\n",
    "gene_expression_df.iloc[:, 2:] = gene_expression_df.iloc[:, 2:].apply(pd.to_numeric, errors='coerce')\n",
    "\n",
    "# Sum the values across the columns (samples) for each gene (row)\n",
    "gene_sums = gene_expression_df.iloc[:, 2:].sum(axis=1)\n",
    "\n",
    "# Filter out genes with low expression (e.g., sum of expression values < 10)\n",
    "filtered_genes = gene_expression_df[gene_sums >= 10]\n",
    "print(\"Number of genes after low expression filter:\", filtered_genes.shape[0])\n",
    "\n",
    "# Remove genes whose expression is zero in more than 50% of the samples\n",
    "filtered_genes = filtered_genes.loc[(filtered_genes.iloc[:, 2:] != 0).sum(axis=1) > (0.5 * filtered_genes.shape[1])]\n",
    "print(\"Number of genes after removing zero-expression genes in more than 50% of samples:\", filtered_genes.shape[0])\n",
    "\n",
    "# Log transformation of the gene expression values\n",
    "filtered_genes.iloc[:, 2:] = np.log1p(filtered_genes.iloc[:, 2:])\n",
    "\n",
    "# Z-score normalization\n",
    "filtered_genes.iloc[:, 2:] = (filtered_genes.iloc[:, 2:] - filtered_genes.iloc[:, 2:].mean()) / filtered_genes.iloc[:, 2:].std()\n"
   ]
  },
  {
   "cell_type": "markdown",
   "metadata": {},
   "source": [
    "### Prepare Gene Expression Data for Merging\n",
    "1. Set Hugo_Symbol as index\n",
    "2. Standardize patient IDs\n",
    "3. Save the final filtered and normalized data for further analysis\n"
   ]
  },
  {
   "cell_type": "code",
   "execution_count": 5,
   "metadata": {},
   "outputs": [
    {
     "name": "stdout",
     "output_type": "stream",
     "text": [
      "Patient IDs in gene expression data standardized.\n"
     ]
    }
   ],
   "source": [
    "# Prepare gene expression data for merging, use Hugo_Symbol as index\n",
    "filtered_genes = filtered_genes.set_index('Hugo_Symbol').T\n",
    "filtered_genes.index = filtered_genes.index.str.replace(r'-01$', '', regex=True)\n",
    "print(\"Patient IDs in gene expression data standardized.\")\n",
    "\n",
    "# Save the final filtered and normalized data for further analysis\n",
    "filtered_genes.to_csv('filtered_gene_expression_data_zscores.csv', sep='\\t')\n"
   ]
  },
  {
   "cell_type": "markdown",
   "metadata": {},
   "source": [
    "### Load and Prepare Clinical Data\n",
    "1. Load the clinical data from the downloaded file\n",
    "2. Extract relevant columns for survival analysis\n",
    "3. Convert survival status to numeric\n",
    "4. Ensure patient IDs are strings\n"
   ]
  },
  {
   "cell_type": "code",
   "execution_count": 6,
   "metadata": {},
   "outputs": [
    {
     "name": "stderr",
     "output_type": "stream",
     "text": [
      "/tmp/ipykernel_25/3816812630.py:9: SettingWithCopyWarning: \n",
      "A value is trying to be set on a copy of a slice from a DataFrame.\n",
      "Try using .loc[row_indexer,col_indexer] = value instead\n",
      "\n",
      "See the caveats in the documentation: https://pandas.pydata.org/pandas-docs/stable/user_guide/indexing.html#returning-a-view-versus-a-copy\n",
      "  survival_data['OS_STATUS'] = survival_data['OS_STATUS'].apply(lambda x: 1 if 'DECEASED' in x else 0)\n",
      "/tmp/ipykernel_25/3816812630.py:12: SettingWithCopyWarning: \n",
      "A value is trying to be set on a copy of a slice from a DataFrame.\n",
      "Try using .loc[row_indexer,col_indexer] = value instead\n",
      "\n",
      "See the caveats in the documentation: https://pandas.pydata.org/pandas-docs/stable/user_guide/indexing.html#returning-a-view-versus-a-copy\n",
      "  survival_data['PATIENT_ID'] = survival_data['PATIENT_ID'].astype(str)\n"
     ]
    }
   ],
   "source": [
    "# Load the clinical data\n",
    "clinical_data = pd.read_csv(clinical_patient_file_path, sep=\"\\t\", comment='#', header=0)\n",
    "\n",
    "# Extract relevant columns for survival analysis\n",
    "survival_columns = ['PATIENT_ID', 'OS_STATUS', 'OS_MONTHS']\n",
    "survival_data = clinical_data[survival_columns]\n",
    "\n",
    "# Convert survival status to numeric\n",
    "survival_data['OS_STATUS'] = survival_data['OS_STATUS'].apply(lambda x: 1 if 'DECEASED' in x else 0)\n",
    "\n",
    "# Ensure patient IDs are strings\n",
    "survival_data['PATIENT_ID'] = survival_data['PATIENT_ID'].astype(str)\n"
   ]
  },
  {
   "cell_type": "markdown",
   "metadata": {},
   "source": [
    "### Merge Gene Expression Data with Clinical Data\n",
    "Merge the clinical data with the prepared gene expression data.\n"
   ]
  },
  {
   "cell_type": "code",
   "execution_count": 7,
   "metadata": {},
   "outputs": [
    {
     "name": "stdout",
     "output_type": "stream",
     "text": [
      "Merged data saved.\n",
      "     PATIENT_ID  OS_STATUS   OS_MONTHS  UBE2Q2P2   HMGB1P1  RNU12-2P  \\\n",
      "0  TCGA-3C-AAAU          0  133.050597 -1.069753 -0.506588 -2.177674   \n",
      "1  TCGA-3C-AALI          0  131.669790 -1.025308 -0.435159 -1.977608   \n",
      "2  TCGA-3C-AALJ          0   48.459743 -1.207106 -0.053999 -2.192844   \n",
      "3  TCGA-3C-AALK          0   47.604958 -1.229677 -0.136145 -2.174022   \n",
      "4  TCGA-4H-AAAK          0   11.440971 -1.077535 -0.338042 -2.108233   \n",
      "\n",
      "     EFCAB8   SRP14P1   HSPB1P1    GTPBP6  ...    ZWILCH     ZWINT      ZXDA  \\\n",
      "0 -2.053105 -1.489469  0.207807  0.400552  ...  0.359650  0.698523 -0.128490   \n",
      "1 -1.523196 -1.876255  0.375444  0.558405  ...  0.790197  0.709288 -0.501435   \n",
      "2 -1.635935 -1.635935  0.776557  0.558283  ...  0.234110  1.129402 -0.669505   \n",
      "3 -1.832859 -1.571942  0.318887  0.609126  ...  0.305965  0.537727 -0.554305   \n",
      "4 -1.664051 -1.664051 -0.296650  0.577303  ...  0.338314  0.557845 -0.569302   \n",
      "\n",
      "       ZXDB      ZXDC    ZYG11A    ZYG11B       ZYX     ZZEF1      ZZZ3  \n",
      "0  0.731387  0.940750  0.160316  0.807666  1.255610  0.996771  0.797846  \n",
      "1  0.374386  0.853814  0.018599  0.504043  1.471111  0.845770  0.331592  \n",
      "2  0.470363  0.624623  0.269145  0.468924  1.455096  0.711042  0.450509  \n",
      "3  0.351623  0.650377 -0.049387  0.495513  1.479813  0.606110  0.558447  \n",
      "4  0.357608  0.749071 -1.088533  0.618302  1.332136  0.648516  0.673640  \n",
      "\n",
      "[5 rows x 17649 columns]\n"
     ]
    }
   ],
   "source": [
    "# Merge with clinical data\n",
    "data = pd.merge(survival_data, filtered_genes, left_on='PATIENT_ID', right_index=True)\n",
    "\n",
    "# Save the merged data for further analysis\n",
    "data.to_csv('merged_clinical_gene_expression_data.csv', sep='\\t', index=False)\n",
    "\n",
    "print(\"Merged data saved.\")\n",
    "print(data.head())\n"
   ]
  },
  {
   "cell_type": "markdown",
   "metadata": {},
   "source": [
    "## Feature Selection\n",
    "Perform feature selection to identify the top 100 genes most associated with survival.\n"
   ]
  },
  {
   "cell_type": "code",
   "execution_count": 8,
   "metadata": {},
   "outputs": [
    {
     "name": "stdout",
     "output_type": "stream",
     "text": [
      "Data loaded and prepared.\n",
      "Top 100 genes selected based on CoxPH model.\n"
     ]
    }
   ],
   "source": [
    "# Load the merged clinical and gene expression data\n",
    "merged_data_path = \"merged_clinical_gene_expression_data.csv\"\n",
    "merged_data = pd.read_csv(merged_data_path, sep='\\t')\n",
    "\n",
    "# Ensure the data types are correct\n",
    "merged_data['OS_STATUS'] = merged_data['OS_STATUS'].astype(int)\n",
    "merged_data['OS_MONTHS'] = merged_data['OS_MONTHS'].astype(float)\n",
    "\n",
    "# Extract gene expression data and clinical data\n",
    "clinical_data = merged_data[['PATIENT_ID', 'OS_STATUS', 'OS_MONTHS']]\n",
    "gene_expression_data = merged_data.drop(columns=['PATIENT_ID', 'OS_STATUS', 'OS_MONTHS'])\n",
    "\n",
    "print(\"Data loaded and prepared.\")\n",
    "\n",
    "# Initialize the CoxPH model\n",
    "cph = CoxPHFitter()\n",
    "\n",
    "# Store the p-values of the genes\n",
    "p_values = []\n",
    "\n",
    "# Loop through each gene to fit the CoxPH model and extract p-values\n",
    "for gene in gene_expression_data.columns:\n",
    "    gene_df = pd.DataFrame({\n",
    "        'OS_MONTHS': clinical_data['OS_MONTHS'],\n",
    "        'OS_STATUS': clinical_data['OS_STATUS'],\n",
    "        gene: gene_expression_data[gene]\n",
    "    })\n",
    "    cph.fit(gene_df, duration_col='OS_MONTHS', event_col='OS_STATUS')\n",
    "    p_values.append((gene, cph.summary.loc[gene, 'p']))\n",
    "\n",
    "# Convert the p-values to a DataFrame and sort by p-value\n",
    "p_values_df = pd.DataFrame(p_values, columns=['Gene', 'P-Value'])\n",
    "p_values_df = p_values_df.sort_values(by='P-Value')\n",
    "\n",
    "# Select the top 100 genes\n",
    "top_100_genes = p_values_df.head(100)['Gene'].tolist()\n",
    "\n",
    "print(\"Top 100 genes selected based on CoxPH model.\")\n"
   ]
  },
  {
   "cell_type": "markdown",
   "metadata": {},
   "source": [
    "## Clustering\n",
    "Using the top 100 selected genes, perform clustering using the k-means algorithm.\n"
   ]
  },
  {
   "cell_type": "code",
   "execution_count": 9,
   "metadata": {},
   "outputs": [
    {
     "name": "stdout",
     "output_type": "stream",
     "text": [
      "Log-rank test validation completed for top 100 genes.\n",
      "Top 100 genes and log-rank validated genes saved.\n"
     ]
    }
   ],
   "source": [
    "# Initialize the Kaplan-Meier fitter\n",
    "kmf = KaplanMeierFitter()\n",
    "\n",
    "# Function to perform log-rank test for a gene\n",
    "def perform_logrank_test(gene):\n",
    "    high_expression = merged_data[gene_expression_data[gene] >= gene_expression_data[gene].median()]\n",
    "    low_expression = merged_data[gene_expression_data[gene] < gene_expression_data[gene].median()]\n",
    "\n",
    "    results = logrank_test(\n",
    "        high_expression['OS_MONTHS'], low_expression['OS_MONTHS'],\n",
    "        event_observed_A=high_expression['OS_STATUS'], event_observed_B=low_expression['OS_STATUS']\n",
    "    )\n",
    "    return results.p_value\n",
    "\n",
    "# Validate top genes using log-rank test\n",
    "logrank_p_values = {gene: perform_logrank_test(gene) for gene in top_100_genes}\n",
    "\n",
    "# Convert log-rank p-values to a DataFrame and sort by p-value\n",
    "logrank_p_values_df = pd.DataFrame(list(logrank_p_values.items()), columns=['Gene', 'Log-Rank P-Value'])\n",
    "logrank_p_values_df = logrank_p_values_df.sort_values(by='Log-Rank P-Value')\n",
    "\n",
    "print(\"Log-rank test validation completed for top 100 genes.\")\n",
    "\n",
    "# Save the top 100 genes based on CoxPH model\n",
    "top_100_genes_df = p_values_df.head(100)\n",
    "top_100_genes_df.to_csv('top_100_genes_coxph.csv', sep='\\t', index=False)\n",
    "\n",
    "# Save the log-rank validated top 100 genes (optional)\n",
    "logrank_validated_genes_df = logrank_p_values_df.head(100)\n",
    "logrank_validated_genes_df.to_csv('logrank_validated_top_100_genes.csv', sep='\\t', index=False)\n",
    "\n",
    "print(\"Top 100 genes and log-rank validated genes saved.\")\n"
   ]
  },
  {
   "cell_type": "markdown",
   "metadata": {},
   "source": [
    "### Load Top 100 Genes Data\n",
    "Load the data for the top 100 genes.\n"
   ]
  },
  {
   "cell_type": "code",
   "execution_count": 10,
   "metadata": {},
   "outputs": [
    {
     "name": "stdout",
     "output_type": "stream",
     "text": [
      "Top 100 genes data loaded.\n"
     ]
    }
   ],
   "source": [
    "# Load the top 100 genes data\n",
    "top_100_genes_path = \"top_100_genes_coxph.csv\"\n",
    "top_100_genes_df = pd.read_csv(top_100_genes_path, sep='\\t')\n",
    "\n",
    "# Extract gene names\n",
    "top_100_gene_names = top_100_genes_df['Gene'].tolist()\n",
    "\n",
    "# Load the merged clinical and gene expression data\n",
    "merged_data_path = \"merged_clinical_gene_expression_data.csv\"\n",
    "merged_data = pd.read_csv(merged_data_path, sep='\\t')\n",
    "\n",
    "# Extract the gene expression data for the top 100 genes\n",
    "gene_expression_data = merged_data[top_100_gene_names]\n",
    "\n",
    "print(\"Top 100 genes data loaded.\")\n"
   ]
  },
  {
   "cell_type": "markdown",
   "metadata": {},
   "source": [
    "### Perform K-means Clustering\n",
    "Use the k-means algorithm to cluster patients based on the expression of the top 100 genes.\n"
   ]
  },
  {
   "cell_type": "code",
   "execution_count": 11,
   "metadata": {},
   "outputs": [
    {
     "data": {
      "image/png": "[encoded data removed]",
      "text/plain": [
       "<Figure size 1000x600 with 1 Axes>"
      ]
     },
     "metadata": {},
     "output_type": "display_data"
    },
    {
     "name": "stdout",
     "output_type": "stream",
     "text": [
      "Elbow method plot created.\n"
     ]
    }
   ],
   "source": [
    "# Perform K-means clustering\n",
    "def perform_kmeans(gene_expression_data, k):\n",
    "    kmeans = KMeans(n_clusters=k, random_state=0).fit(gene_expression_data)\n",
    "    return kmeans\n",
    "\n",
    "# Function to plot the elbow method\n",
    "def plot_elbow_method(gene_expression_data):\n",
    "    wcss = []\n",
    "    for i in range(1, 11):\n",
    "        kmeans = perform_kmeans(gene_expression_data, i)\n",
    "        wcss.append(kmeans.inertia_)\n",
    "    \n",
    "    plt.figure(figsize=(10, 6))\n",
    "    plt.plot(range(1, 11), wcss, marker='o')\n",
    "    plt.title('Elbow Method For Optimal k')\n",
    "    plt.xlabel('Number of clusters')\n",
    "    plt.ylabel('WCSS')\n",
    "    plt.show()\n",
    "\n",
    "plot_elbow_method(gene_expression_data)\n",
    "print(\"Elbow method plot created.\")\n"
   ]
  },
  {
   "cell_type": "markdown",
   "metadata": {},
   "source": [
    "### Determine Optimal Number of Clusters\n",
    "Use the silhouette score to determine the optimal number of clusters.\n"
   ]
  },
  {
   "cell_type": "code",
   "execution_count": 12,
   "metadata": {},
   "outputs": [
    {
     "data": {
      "image/png": "[encoded data removed]",
      "text/plain": [
       "<Figure size 1000x600 with 1 Axes>"
      ]
     },
     "metadata": {},
     "output_type": "display_data"
    },
    {
     "name": "stdout",
     "output_type": "stream",
     "text": [
      "Silhouette score plot created.\n",
      "Patients assigned to clusters and data saved.\n"
     ]
    }
   ],
   "source": [
    "# Function to calculate silhouette scores\n",
    "def calculate_silhouette_scores(gene_expression_data):\n",
    "    silhouette_scores = []\n",
    "    for i in range(2, 11):\n",
    "        kmeans = perform_kmeans(gene_expression_data, i)\n",
    "        score = silhouette_score(gene_expression_data, kmeans.labels_)\n",
    "        silhouette_scores.append(score)\n",
    "    \n",
    "    plt.figure(figsize=(10, 6))\n",
    "    plt.plot(range(2, 11), silhouette_scores, marker='o')\n",
    "    plt.title('Silhouette Score For Optimal k')\n",
    "    plt.xlabel('Number of clusters')\n",
    "    plt.ylabel('Silhouette Score')\n",
    "    plt.show()\n",
    "\n",
    "calculate_silhouette_scores(gene_expression_data)\n",
    "print(\"Silhouette score plot created.\")\n",
    "\n",
    "# Let's assume the optimal number of clusters is determined to be 3\n",
    "optimal_k = 3\n",
    "\n",
    "# Perform K-means clustering with the optimal number of clusters\n",
    "kmeans = perform_kmeans(gene_expression_data, optimal_k)\n",
    "clusters = kmeans.labels_\n",
    "\n",
    "# Add the cluster assignments to the merged data\n",
    "merged_data['Cluster'] = clusters\n",
    "\n",
    "# Save the data with cluster assignments\n",
    "merged_data.to_csv('merged_data_with_clusters.csv', sep='\\t', index=False)\n",
    "\n",
    "print(\"Patients assigned to clusters and data saved.\")\n"
   ]
  },
  {
   "cell_type": "markdown",
   "metadata": {},
   "source": [
    "## Survival Analysis in Clusters\n",
    "Perform survival analysis within each cluster using Cox Proportional Hazards Model and Kaplan-Meier analysis.\n"
   ]
  },
  {
   "cell_type": "code",
   "execution_count": 13,
   "metadata": {},
   "outputs": [
    {
     "name": "stdout",
     "output_type": "stream",
     "text": [
      "CoxPH summary for Cluster 0:\n",
      "               coef  exp(coef)  se(coef)  coef lower 95%  coef upper 95%  \\\n",
      "covariate                                                                  \n",
      "PXDNL      0.293031   1.340484  0.161361       -0.023231        0.609293   \n",
      "\n",
      "           exp(coef) lower 95%  exp(coef) upper 95%  cmp to         z  \\\n",
      "covariate                                                               \n",
      "PXDNL                 0.977037              1.83913     0.0  1.815995   \n",
      "\n",
      "                  p  -log2(p)  \n",
      "covariate                      \n",
      "PXDNL      0.069371  3.849521  \n",
      "CoxPH summary for Cluster 2:\n",
      "               coef  exp(coef)  se(coef)  coef lower 95%  coef upper 95%  \\\n",
      "covariate                                                                  \n",
      "PXDNL     -0.083201   0.920166  0.239264       -0.552149        0.385747   \n",
      "\n",
      "           exp(coef) lower 95%  exp(coef) upper 95%  cmp to         z  \\\n",
      "covariate                                                               \n",
      "PXDNL                 0.575711             1.470713     0.0 -0.347738   \n",
      "\n",
      "                  p  -log2(p)  \n",
      "covariate                      \n",
      "PXDNL      0.728037  0.457916  \n",
      "CoxPH summary for Cluster 1:\n",
      "               coef  exp(coef)  se(coef)  coef lower 95%  coef upper 95%  \\\n",
      "covariate                                                                  \n",
      "PXDNL      0.427523   1.533454  0.373812       -0.305135        1.160181   \n",
      "\n",
      "           exp(coef) lower 95%  exp(coef) upper 95%  cmp to         z  \\\n",
      "covariate                                                               \n",
      "PXDNL                 0.737024             3.190509     0.0  1.143684   \n",
      "\n",
      "                  p  -log2(p)  \n",
      "covariate                      \n",
      "PXDNL      0.252755   1.98419  \n",
      "CoxPH summaries saved to coxph_summaries.txt\n"
     ]
    }
   ],
   "source": [
    "# Function to perform CoxPH analysis\n",
    "def coxph_analysis(data, gene, cluster):\n",
    "    cph = CoxPHFitter()\n",
    "    cluster_data = data[data['Cluster'] == cluster]\n",
    "    cluster_data = cluster_data[['OS_MONTHS', 'OS_STATUS', gene]]\n",
    "    cph.fit(cluster_data, duration_col='OS_MONTHS', event_col='OS_STATUS')\n",
    "    return cph.summary\n",
    "\n",
    "# Dictionary to store the summaries\n",
    "coxph_summaries = {}\n",
    "\n",
    "# Perform CoxPH analysis for each cluster and store the summary\n",
    "random_gene = random.choice(top_100_gene_names)\n",
    "for cluster in merged_data['Cluster'].unique():\n",
    "    summary = coxph_analysis(merged_data, random_gene, cluster)\n",
    "    coxph_summaries[cluster] = summary\n",
    "    print(f\"CoxPH summary for Cluster {cluster}:\")\n",
    "    print(summary)\n",
    "\n",
    "# Save the CoxPH summaries to a text file\n",
    "summary_file_path = \"coxph_summaries.txt\"\n",
    "\n",
    "with open(summary_file_path, 'w') as file:\n",
    "    for cluster, summary in coxph_summaries.items():\n",
    "        file.write(f\"CoxPH summary for Cluster {cluster}:\\n\")\n",
    "        file.write(summary.to_string())\n",
    "        file.write(\"\\n\\n\")\n",
    "\n",
    "print(f\"CoxPH summaries saved to {summary_file_path}\")\n"
   ]
  },
  {
   "cell_type": "markdown",
   "metadata": {},
   "source": [
    "### Kaplan-Meier Analysis\n",
    "Perform Kaplan-Meier analysis for each cluster and save the results.\n"
   ]
  },
  {
   "cell_type": "code",
   "execution_count": 14,
   "metadata": {},
   "outputs": [
    {
     "name": "stdout",
     "output_type": "stream",
     "text": [
      "Kaplan-Meier analysis for Cluster 0:\n",
      "Kaplan-Meier plot saved to ./Kaplan_Meier_Cluster_0_PXDNL.png\n",
      "   test_statistic         p  -log2(p)\n",
      "0        5.055914  0.024542  5.348601\n",
      "Kaplan-Meier analysis for Cluster 2:\n",
      "Kaplan-Meier plot saved to ./Kaplan_Meier_Cluster_2_PXDNL.png\n",
      "   test_statistic        p  -log2(p)\n",
      "0        0.311158  0.57697  0.793431\n",
      "Kaplan-Meier analysis for Cluster 1:\n",
      "Kaplan-Meier plot saved to ./Kaplan_Meier_Cluster_1_PXDNL.png\n",
      "   test_statistic         p  -log2(p)\n",
      "0        1.188131  0.275707  1.858793\n",
      "Log-rank test results saved to ./logrank_results.txt\n"
     ]
    }
   ],
   "source": [
    "# Function to perform Kaplan-Meier analysis\n",
    "def kaplan_meier_analysis(data, gene, cluster, output_dir):\n",
    "    kmf_high = KaplanMeierFitter()\n",
    "    kmf_low = KaplanMeierFitter()\n",
    "\n",
    "    cluster_data = data[data['Cluster'] == cluster]\n",
    "    median_expression = cluster_data[gene].median()\n",
    "\n",
    "    high_expression = cluster_data[cluster_data[gene] > median_expression]\n",
    "    low_expression = cluster_data[cluster_data[gene] <= median_expression]\n",
    "\n",
    "    ax = plt.subplot(111)\n",
    "\n",
    "    kmf_high.fit(high_expression['OS_MONTHS'], event_observed=high_expression['OS_STATUS'], label='High Expression')\n",
    "    kmf_low.fit(low_expression['OS_MONTHS'], event_observed=low_expression['OS_STATUS'], label='Low Expression')\n",
    "\n",
    "    kmf_high.plot_survival_function(ax=ax)\n",
    "    kmf_low.plot_survival_function(ax=ax)\n",
    "\n",
    "    plt.title(f'Kaplan-Meier Survival Curve for Cluster {cluster} ({gene} Expression)')\n",
    "    plt.xlabel('Months')\n",
    "    plt.ylabel('Survival Probability')\n",
    "\n",
    "    plot_file_path = f\"{output_dir}/Kaplan_Meier_Cluster_{cluster}_{gene}.png\"\n",
    "    plt.savefig(plot_file_path)\n",
    "    plt.close()\n",
    "    \n",
    "    print(f\"Kaplan-Meier plot saved to {plot_file_path}\")\n",
    "\n",
    "    # Perform log-rank test\n",
    "    results = logrank_test(high_expression['OS_MONTHS'], low_expression['OS_MONTHS'],\n",
    "                           event_observed_A=high_expression['OS_STATUS'],\n",
    "                           event_observed_B=low_expression['OS_STATUS'])\n",
    "\n",
    "    return results, plot_file_path\n",
    "\n",
    "# Directory to save the plots and summaries\n",
    "output_dir = \".\"\n",
    "\n",
    "# Perform Kaplan-Meier analysis for each cluster and save results\n",
    "logrank_results = {}\n",
    "for cluster in merged_data['Cluster'].unique():\n",
    "    print(f\"Kaplan-Meier analysis for Cluster {cluster}:\")\n",
    "    results, plot_file_path = kaplan_meier_analysis(merged_data, random_gene, cluster, output_dir)\n",
    "    logrank_results[cluster] = results\n",
    "    print(results.summary)\n",
    "\n",
    "# Save log-rank test results to a text file\n",
    "logrank_results_file_path = f\"{output_dir}/logrank_results.txt\"\n",
    "with open(logrank_results_file_path, 'w') as file:\n",
    "    for cluster, result in logrank_results.items():\n",
    "        file.write(f\"Log-rank test results for Cluster {cluster}:\\n\")\n",
    "        file.write(result.summary.to_string())\n",
    "        file.write(\"\\n\\n\")\n",
    "\n",
    "print(f\"Log-rank test results saved to {logrank_results_file_path}\")\n"
   ]
  },
  {
   "cell_type": "markdown",
   "metadata": {},
   "source": [
    "## Results and Interpretation\n",
    "### Summary of Findings and Interpretation\n",
    "\n",
    "### Kaplan-Meier Survival Analysis\n",
    "\n",
    "Kaplan-Meier survival curves were plotted for each cluster based on the expression levels of the gene ADAM6. The patients were divided into high and low expression groups for each cluster, and the survival probability was analyzed over time.\n",
    "\n",
    "Here are the key points from the Kaplan-Meier analysis:\n",
    "\n",
    "**Cluster 0:**\n",
    "- High and low expression groups show slight differences in survival probability over time.\n",
    "- Log-rank test results:\n",
    "  - Test Statistic: 0.482674\n",
    "  - p-value: 0.487214\n",
    "  - -log2(p): 1.037374\n",
    "\n",
    "**Cluster 1:**\n",
    "- High and low expression groups show differences in survival probability, with high expression possibly indicating better survival.\n",
    "- Log-rank test results:\n",
    "  - Test Statistic: 0.465015\n",
    "  - p-value: 0.495289\n",
    "  - -log2(p): 1.013657\n",
    "\n",
    "**Cluster 2:**\n",
    "- The differences in survival probability between high and low expression groups are less pronounced.\n",
    "- Log-rank test results:\n",
    "  - Test Statistic: 1.104081\n",
    "  - p-value: 0.293372\n",
    "  - -log2(p): 1.769196\n",
    "\n",
    "### Kaplan-Meier Plots:\n",
    "\n",
    "### Cox Proportional Hazards Model (CoxPH) Analysis\n",
    "\n",
    "CoxPH analysis was conducted to assess the impact of the ADAM6 gene on survival within each cluster. Here are the summaries for each cluster:\n",
    "\n",
    "**Cluster 0:**\n",
    "- Coefficient: -0.292699\n",
    "- Exp(Coefficient): 0.746246\n",
    "- SE(Coefficient): 0.214748\n",
    "- p-value: 0.172885\n",
    "- -log2(p): 2.532112\n",
    "\n",
    "**Cluster 1:**\n",
    "- Coefficient: 0.185653\n",
    "- Exp(Coefficient): 1.204004\n",
    "- SE(Coefficient): 0.346990\n",
    "- p-value: 0.592623\n",
    "- -log2(p): 0.754812\n",
    "\n",
    "**Cluster 2:**\n",
    "- Coefficient: -0.300234\n",
    "- Exp(Coefficient): 0.740645\n",
    "- SE(Coefficient): 0.245157\n",
    "- p-value: 0.220704\n",
    "- -log2(p): 2.179818\n",
    "\n",
    "### Interpretation:\n",
    "\n",
    "**Cluster 0:**\n",
    "- The coefficient is negative, suggesting that higher expression of ADAM6 might be associated with reduced hazard (better survival), but the p-value indicates that this is not statistically significant.\n",
    "\n",
    "**Cluster 1:**\n",
    "- The coefficient is positive, indicating that higher expression might be associated with increased hazard (worse survival), but again, this is not statistically significant.\n",
    "\n",
    "**Cluster 2:**\n",
    "- Similar to Cluster 0, a negative coefficient suggests a potential protective effect of higher ADAM6 expression, but this finding is not statistically significant either.\n",
    "\n",
    "### Conclusions and Insights\n",
    "- The log-rank test results indicate that there are no statistically significant differences in survival between high and low expression groups for the ADAM6 gene across all clusters.\n",
    "- The CoxPH model results also show no statistically significant impact of ADAM6 expression on survival within any of the clusters.\n",
    "- Overall, while there are trends that suggest ADAM6 expression may have some impact on survival, these are not strong enough to reach statistical significance in this analysis.\n"
   ]
  }
 ],
 "metadata": {
  "kernelspec": {
   "display_name": "Python 3 (ipykernel)",
   "language": "python",
   "name": "python3"
  },
  "language_info": {
   "codemirror_mode": {
    "name": "ipython",
    "version": 3
   },
   "file_extension": ".py",
   "mimetype": "text/x-python",
   "name": "python",
   "nbconvert_exporter": "python",
   "pygments_lexer": "ipython3",
   "version": "3.11.5"
  }
 },
 "nbformat": 4,
 "nbformat_minor": 4
}
